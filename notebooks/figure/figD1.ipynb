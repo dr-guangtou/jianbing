{
 "cells": [
  {
   "cell_type": "code",
   "execution_count": 1,
   "id": "87facbf6-761e-4e0c-89fe-0fd4d049bbe7",
   "metadata": {},
   "outputs": [],
   "source": [
    "%matplotlib inline\n",
    "%load_ext autoreload\n",
    "%autoreload 2\n",
    "\n",
    "import os\n",
    "import sys\n",
    "import copy \n",
    "import pickle\n",
    "\n",
    "import numpy as np \n",
    "import matplotlib as mpl\n",
    "import matplotlib.pyplot as plt\n",
    "\n",
    "from astropy.cosmology import FlatLambdaCDM\n",
    "\n",
    "from scipy import interpolate\n",
    "from sklearn.neighbors import KDTree\n",
    "from astropy.table import Table, Column, vstack, join\n",
    "\n",
    "color_bins = [\"#377eb8\", \"#e41a1c\", \"#1b9e77\", \"#984ea3\"]\n",
    "marker_bins = ['o', 's', 'H', 'D', '+']\n",
    "msize_bins = [160, 140, 200, 180, 150]"
   ]
  },
  {
   "cell_type": "code",
   "execution_count": 2,
   "id": "73b16147-ffb7-4159-bf6a-b33ad0e3c853",
   "metadata": {},
   "outputs": [],
   "source": [
    "import jianbing\n",
    "\n",
    "from jianbing import hsc\n",
    "from jianbing import utils\n",
    "from jianbing import visual\n",
    "from jianbing import catalog\n",
    "from jianbing import wlensing"
   ]
  },
  {
   "cell_type": "code",
   "execution_count": 3,
   "id": "c69e4e39-5ccc-4c47-8ee4-bfd1592f377d",
   "metadata": {},
   "outputs": [],
   "source": [
    "data_dir = jianbing.DATA_DIR\n",
    "\n",
    "fig_dir = jianbing.FIG_DIR\n",
    "\n",
    "sim_dir = jianbing.SIM_DIR\n",
    "bin_dir = jianbing.BIN_DIR\n",
    "res_dir = jianbing.RES_DIR"
   ]
  },
  {
   "cell_type": "markdown",
   "id": "6aa98f90-e82a-4ed4-91a8-ba3a1e975573",
   "metadata": {},
   "source": [
    "### DSigma profiles of mock galaxies"
   ]
  },
  {
   "cell_type": "code",
   "execution_count": 4,
   "id": "88ff8758-086f-4d0e-840e-34d1583b03f4",
   "metadata": {},
   "outputs": [],
   "source": [
    "sim_dsig_all = Table.read(os.path.join(sim_dir, 'sim_merge_all_dsig.fits'))\n",
    "sim_dsig_cen = Table.read(os.path.join(sim_dir, 'sim_mdpl2_cen_dsig.fits'))"
   ]
  },
  {
   "cell_type": "markdown",
   "id": "b51b2918-cec8-4bf6-bd66-23473db8e33a",
   "metadata": {},
   "source": [
    "### Compare the $\\Delta\\Sigma$ profiles of (possible) massive satellite galaxies to their central counterparts"
   ]
  },
  {
   "cell_type": "markdown",
   "id": "7e91b2c4-4e01-4d52-9f45-3dfde16e5b14",
   "metadata": {},
   "source": [
    "#### Pre-compute lensing results for HSC galaxies"
   ]
  },
  {
   "cell_type": "code",
   "execution_count": 5,
   "id": "93ac16e5-f820-461a-a237-1d905da4995f",
   "metadata": {},
   "outputs": [],
   "source": [
    "# Pre-compute\n",
    "s16a_precompute = os.path.join(data_dir, 'topn_public_s16a_medium_precompute.hdf5')\n",
    "\n",
    "hsc_pre = Table.read(s16a_precompute, path='hsc')\n",
    "\n",
    "cols_use = ['object_id', 'z', 'field', 'w_sys', 'sum 1', 'sum w_ls', 'sum w_ls e_t',\n",
    "            'sum w_ls e_t sigma_crit', 'sum w_ls e_t sigma_crit f_bias', 'sum (w_ls e_t sigma_crit)^2', \n",
    "            'sum w_ls z_l', 'sum w_ls z_s', 'sum w_ls m', 'sum w_ls (1 - e_rms^2)', 'sum w_ls A p(R_2=0.3)', 'n_s_tot']"
   ]
  },
  {
   "cell_type": "code",
   "execution_count": 6,
   "id": "af7190ef-87f4-4fa1-9390-6c71a13a1825",
   "metadata": {},
   "outputs": [],
   "source": [
    "hsc_massive = Table.read(os.path.join(data_dir, 's16a_massive_logm_11.2.fits'))\n",
    "\n",
    "hsc_pre = join(hsc_massive, hsc_pre[cols_use], keys='object_id', join_type='inner', metadata_conflicts='silent')\n",
    "\n",
    "mask = (\n",
    "    (hsc_pre['logm_10_100'] >= 9.5) & (hsc_pre['logm_max'] >= 11.2) & \n",
    "    (hsc_pre['logm_50_100'] >= 9.5) & (hsc_pre['bsm_s18a'])\n",
    ")\n",
    "\n",
    "hsc_use = hsc_pre[mask]"
   ]
  },
  {
   "cell_type": "markdown",
   "id": "d82df4a0-ff6f-4a42-8b2d-e7349591d104",
   "metadata": {},
   "source": [
    "#### Pre-compute lensing results for randoms"
   ]
  },
  {
   "cell_type": "code",
   "execution_count": 7,
   "id": "9e3a4bf0-eddc-46bb-8742-dc4a9bcd62a1",
   "metadata": {},
   "outputs": [],
   "source": [
    "# Lensing data using medium photo-z quality cut\n",
    "s16a_lensing = os.path.join(data_dir, 's16a_weak_lensing_medium.hdf5')\n",
    "\n",
    "# Random\n",
    "s16a_rand = Table.read(s16a_lensing, path='random')"
   ]
  },
  {
   "cell_type": "markdown",
   "id": "3053310a-e25d-45f1-acea-fc8f43075b2e",
   "metadata": {},
   "source": [
    "#### Pre-defined number density bins"
   ]
  },
  {
   "cell_type": "code",
   "execution_count": 8,
   "id": "21b1f4a7-d999-4df4-ae55-d8b8717137e7",
   "metadata": {},
   "outputs": [],
   "source": [
    "topn_bins = Table.read(os.path.join(bin_dir, 'topn_bins.fits'))"
   ]
  },
  {
   "cell_type": "code",
   "execution_count": null,
   "id": "904ee24b-43c2-4e90-beac-0091a6c8c49c",
   "metadata": {},
   "outputs": [],
   "source": []
  },
  {
   "cell_type": "markdown",
   "id": "22bd8951-403c-47b7-a78e-3568a323c029",
   "metadata": {},
   "source": [
    "### Get the DSigma profiles for different choices of cylinder \n",
    "\n",
    "#### `cen_mask_1`: 1 Mpc radius; 20 Mpc in length"
   ]
  },
  {
   "cell_type": "code",
   "execution_count": 27,
   "id": "f7d12785-2920-4ef8-a9b7-bb26fbf5baad",
   "metadata": {},
   "outputs": [
    {
     "name": "stdout",
     "output_type": "stream",
     "text": [
      "# There are 1827 central galaxies in the mass bin\n",
      "# There are 138 satellite candidates in the mass bin\n",
      "# Match the satellite to 677 centrals in M50 - M[50,100] plane\n",
      "There are 1827 objects in sample 1\n",
      "There are 677 objects in sample 1\n",
      "There are 138 objects in sample 1\n"
     ]
    }
   ],
   "source": [
    "cen = hsc_use[hsc_use['cen_mask_1'] & np.isfinite(hsc_use['logm_50_100']) & \n",
    "              np.isfinite(hsc_use['logm_100'])]\n",
    "sat = hsc_use[~hsc_use['cen_mask_1'] & np.isfinite(hsc_use['logm_50_100']) & \n",
    "              np.isfinite(hsc_use['logm_100'])]\n",
    "\n",
    "mask_cen = ((cen['logm_100'] >= 11.6) & (cen['logm_100'] <= 11.8))\n",
    "mask_sat = ((sat['logm_100'] >= 11.6) & (sat['logm_100'] <= 11.8))\n",
    "\n",
    "print(\"# There are {:d} central galaxies in the mass bin\".format(mask_cen.sum()))\n",
    "print(\"# There are {:d} satellite candidates in the mass bin\".format(mask_sat.sum()))\n",
    "\n",
    "cen_use = cen[mask_cen]\n",
    "sat_use = sat[mask_sat]\n",
    "\n",
    "y = np.stack([np.asarray(sat_use['logm_50']), np.asarray(sat_use['logm_50_100'])]).T\n",
    "X = np.stack([np.asarray(cen_use['logm_50']), np.asarray(cen_use['logm_50_100'])]).T\n",
    "kdt = KDTree(X, leaf_size=10, metric='euclidean')\n",
    "idx = kdt.query(y, k=7, return_distance=False)\n",
    "cen_match = cen_use[(np.unique(idx.flatten()))]\n",
    "\n",
    "print(\"# Match the satellite to {:d} centrals in M50 - M[50,100] plane\".format(len(cen_match)))\n",
    "\n",
    "cen_all_1 = wlensing.batch_dsigma_profiles(\n",
    "    cen_use, s16a_rand, [(cen_use['z'] > 0)], n_rand=100000, n_boot=100,\n",
    "    n_jk=45, verbose=True, n_jobs=None)\n",
    "\n",
    "cen_mat_1 = wlensing.batch_dsigma_profiles(\n",
    "    cen_match, s16a_rand, [(cen_match['z'] > 0)], n_rand=100000, n_boot=100,\n",
    "    n_jk=45, verbose=True, n_jobs=None)\n",
    "\n",
    "sat_1 = wlensing.batch_dsigma_profiles(\n",
    "    sat_use, s16a_rand, [(sat_use['z'] > 0)], n_rand=100000, n_boot=100,\n",
    "    n_jk=45, verbose=True, n_jobs=None)"
   ]
  },
  {
   "cell_type": "markdown",
   "id": "efabbb7d-68af-483c-8e19-530254efb6e7",
   "metadata": {},
   "source": [
    "#### `cen_mask_2`: 1.5 Mpc radius; 30 Mpc in length"
   ]
  },
  {
   "cell_type": "code",
   "execution_count": 28,
   "id": "4b6b1630-4c27-4da2-90df-b2b0a27c6b29",
   "metadata": {},
   "outputs": [
    {
     "name": "stdout",
     "output_type": "stream",
     "text": [
      "# There are 1726 central galaxies in the mass bin\n",
      "# There are 239 satellite candidates in the mass bin\n",
      "# Match the satellite to 992 centrals in M50 - M[50,100] plane\n",
      "There are 1726 objects in sample 1\n",
      "There are 992 objects in sample 1\n",
      "There are 239 objects in sample 1\n"
     ]
    }
   ],
   "source": [
    "cen = hsc_use[hsc_use['cen_mask_2'] & np.isfinite(hsc_use['logm_50_100']) & \n",
    "              np.isfinite(hsc_use['logm_100'])]\n",
    "sat = hsc_use[~hsc_use['cen_mask_2'] & np.isfinite(hsc_use['logm_50_100']) & \n",
    "              np.isfinite(hsc_use['logm_100'])]\n",
    "\n",
    "mask_cen = ((cen['logm_100'] >= 11.6) & (cen['logm_100'] <= 11.8))\n",
    "mask_sat = ((sat['logm_100'] >= 11.6) & (sat['logm_100'] <= 11.8))\n",
    "\n",
    "print(\"# There are {:d} central galaxies in the mass bin\".format(mask_cen.sum()))\n",
    "print(\"# There are {:d} satellite candidates in the mass bin\".format(mask_sat.sum()))\n",
    "\n",
    "cen_use = cen[mask_cen]\n",
    "sat_use = sat[mask_sat]\n",
    "\n",
    "y = np.stack([np.asarray(sat_use['logm_50']), np.asarray(sat_use['logm_50_100'])]).T\n",
    "X = np.stack([np.asarray(cen_use['logm_50']), np.asarray(cen_use['logm_50_100'])]).T\n",
    "kdt = KDTree(X, leaf_size=10, metric='euclidean')\n",
    "idx = kdt.query(y, k=7, return_distance=False)\n",
    "cen_match = cen_use[(np.unique(idx.flatten()))]\n",
    "\n",
    "print(\"# Match the satellite to {:d} centrals in M50 - M[50,100] plane\".format(len(cen_match)))\n",
    "\n",
    "cen_all_2 = wlensing.batch_dsigma_profiles(\n",
    "    cen_use, s16a_rand, [(cen_use['z'] > 0)], n_rand=100000, n_boot=100,\n",
    "    n_jk=45, verbose=True, n_jobs=None)\n",
    "\n",
    "cen_mat_2 = wlensing.batch_dsigma_profiles(\n",
    "    cen_match, s16a_rand, [(cen_match['z'] > 0)], n_rand=100000, n_boot=100,\n",
    "    n_jk=45, verbose=True, n_jobs=None)\n",
    "\n",
    "sat_2 = wlensing.batch_dsigma_profiles(\n",
    "    sat_use, s16a_rand, [(sat_use['z'] > 0)], n_rand=100000, n_boot=100,\n",
    "    n_jk=45, verbose=True, n_jobs=None)"
   ]
  },
  {
   "cell_type": "markdown",
   "id": "ddb1358e-917f-4744-ae95-bb99488355c1",
   "metadata": {},
   "source": [
    "#### `cen_mask_3`: 1 Mpc radius; 40 Mpc in length"
   ]
  },
  {
   "cell_type": "code",
   "execution_count": 29,
   "id": "15bbbcc4-1d39-4218-81a2-211b16eae9ee",
   "metadata": {},
   "outputs": [
    {
     "name": "stdout",
     "output_type": "stream",
     "text": [
      "# There are 1804 central galaxies in the mass bin\n",
      "# There are 161 satellite candidates in the mass bin\n",
      "# Match the satellite to 765 centrals in M50 - M[50,100] plane\n",
      "There are 1804 objects in sample 1\n",
      "There are 765 objects in sample 1\n",
      "There are 161 objects in sample 1\n"
     ]
    }
   ],
   "source": [
    "cen = hsc_use[hsc_use['cen_mask_3'] & np.isfinite(hsc_use['logm_50_100']) & \n",
    "              np.isfinite(hsc_use['logm_100'])]\n",
    "sat = hsc_use[~hsc_use['cen_mask_3'] & np.isfinite(hsc_use['logm_50_100']) & \n",
    "              np.isfinite(hsc_use['logm_100'])]\n",
    "\n",
    "mask_cen = ((cen['logm_100'] >= 11.6) & (cen['logm_100'] <= 11.8))\n",
    "mask_sat = ((sat['logm_100'] >= 11.6) & (sat['logm_100'] <= 11.8))\n",
    "\n",
    "print(\"# There are {:d} central galaxies in the mass bin\".format(mask_cen.sum()))\n",
    "print(\"# There are {:d} satellite candidates in the mass bin\".format(mask_sat.sum()))\n",
    "\n",
    "cen_use = cen[mask_cen]\n",
    "sat_use = sat[mask_sat]\n",
    "\n",
    "y = np.stack([np.asarray(sat_use['logm_50']), np.asarray(sat_use['logm_50_100'])]).T\n",
    "X = np.stack([np.asarray(cen_use['logm_50']), np.asarray(cen_use['logm_50_100'])]).T\n",
    "kdt = KDTree(X, leaf_size=10, metric='euclidean')\n",
    "idx = kdt.query(y, k=7, return_distance=False)\n",
    "cen_match = cen_use[(np.unique(idx.flatten()))]\n",
    "\n",
    "print(\"# Match the satellite to {:d} centrals in M50 - M[50,100] plane\".format(len(cen_match)))\n",
    "\n",
    "cen_all_3 = wlensing.batch_dsigma_profiles(\n",
    "    cen_use, s16a_rand, [(cen_use['z'] > 0)], n_rand=100000, n_boot=100,\n",
    "    n_jk=45, verbose=True, n_jobs=None)\n",
    "\n",
    "cen_mat_3 = wlensing.batch_dsigma_profiles(\n",
    "    cen_match, s16a_rand, [(cen_match['z'] > 0)], n_rand=100000, n_boot=100,\n",
    "    n_jk=45, verbose=True, n_jobs=None)\n",
    "\n",
    "sat_3 = wlensing.batch_dsigma_profiles(\n",
    "    sat_use, s16a_rand, [(sat_use['z'] > 0)], n_rand=100000, n_boot=100,\n",
    "    n_jk=45, verbose=True, n_jobs=None)"
   ]
  },
  {
   "cell_type": "code",
   "execution_count": 53,
   "id": "a93f83b4-a0e7-48c7-8fcc-b289afb943f1",
   "metadata": {},
   "outputs": [
    {
     "data": {
      "image/png": "[encoded data removed]",
      "text/plain": [
       "<Figure size 432x720 with 2 Axes>"
      ]
     },
     "metadata": {
      "needs_background": "light"
     },
     "output_type": "display_data"
    }
   ],
   "source": [
    "fig = plt.figure(figsize=(6, 10))\n",
    "fig.subplots_adjust(\n",
    "    left=0.175, bottom=0.09, right=0.995, top=0.93, wspace=0, hspace=0)\n",
    "\n",
    "ax1 = fig.add_subplot(2, 1, 1)\n",
    "ax1.set_xscale(\"log\", nonpositive='clip')\n",
    "#ax1.set_yscale(\"log\", nonpositive='clip')\n",
    "\n",
    "ax1.errorbar(\n",
    "    cen_mat_3.meta['r_mpc'], cen_mat_3.meta['r_mpc'] * cen_mat_3[0]['dsigma'], \n",
    "    yerr=(cen_mat_3.meta['r_mpc'] * cen_mat_3[0]['dsig_err_jk']), \n",
    "    ecolor='orangered', color='w', alpha=0.7, \n",
    "    capsize=4, capthick=2.0, elinewidth=2.0, label='__no_label__', fmt='o', zorder=0)\n",
    "ax1.scatter(\n",
    "    cen_mat_3.meta['r_mpc'], cen_mat_3.meta['r_mpc'] * cen_mat_3[0]['dsigma'], \n",
    "    s=200, marker='o', alpha=0.9, facecolor='orangered', edgecolor='w', \n",
    "    linewidth=2.5, label=r'$\\rm Cen$')\n",
    "\n",
    "ax1.errorbar(\n",
    "    sat_3.meta['r_mpc'], sat_3.meta['r_mpc'] * sat_3[0]['dsigma'], \n",
    "    yerr=(sat_3.meta['r_mpc'] * sat_3[0]['dsig_err_jk']), \n",
    "    ecolor='dodgerblue', color='w', alpha=0.7, \n",
    "    capsize=4, capthick=2.0, elinewidth=2.0, label='__no_label__', fmt='o', zorder=0)\n",
    "ax1.scatter(\n",
    "    sat_3.meta['r_mpc'], sat_3.meta['r_mpc'] * sat_3[0]['dsigma'], s=270, marker='P', \n",
    "    alpha=0.9, facecolor='dodgerblue', edgecolor='w', \n",
    "    linewidth=2.5, label=r'$\\rm Sat$')\n",
    "\n",
    "ax1.legend(loc='upper left', fontsize=22)\n",
    "ax1.set_xticklabels([])\n",
    "ax1.set_ylim(-7, 55)\n",
    "\n",
    "\n",
    "ax2 = fig.add_subplot(2, 1, 2)\n",
    "ax2.set_xscale(\"log\", nonpositive='clip')\n",
    "\n",
    "ax2.axhline(1.0, linewidth=4.0, linestyle='--', c='grey', alpha=0.9)\n",
    "\n",
    "err_ratio = np.asarray(\n",
    "    np.sqrt((cen_mat_3[0]['dsig_err_jk'] / cen_mat_3[0]['dsigma']) ** 2 + \n",
    "            (sat_3[0]['dsig_err_jk'] / sat_3[0]['dsigma']) ** 2))[0]\n",
    "\n",
    "ax2.errorbar(\n",
    "    sat_3.meta['r_mpc'], sat_3[0]['dsigma'] / cen_mat_3[0]['dsigma'], \n",
    "    yerr=err_ratio, \n",
    "    ecolor='dodgerblue', color='w', alpha=0.7, \n",
    "    capsize=4, capthick=2.0, elinewidth=2.0, label='__no_label__', fmt='o', zorder=0)\n",
    "ax2.scatter(\n",
    "    sat_3.meta['r_mpc'], sat_3[0]['dsigma'] / cen_mat_3[0]['dsigma'], s=300, marker='P', \n",
    "    alpha=0.9, facecolor='dodgerblue', edgecolor='w', \n",
    "    linewidth=2.0, label=r'$R = 1.0; L=40$')\n",
    "\n",
    "err_ratio = np.asarray(\n",
    "    np.sqrt((cen_mat_1[0]['dsig_err_jk'] / cen_mat_1[0]['dsigma']) ** 2 + \n",
    "            (sat_1[0]['dsig_err_jk'] / sat_1[0]['dsigma']) ** 2))[0]\n",
    "\n",
    "ax2.errorbar(\n",
    "    sat_1.meta['r_mpc'] * 1.1, sat_1[0]['dsigma'] / cen_mat_1[0]['dsigma'], \n",
    "    yerr=err_ratio, \n",
    "    ecolor='dodgerblue', color='w', alpha=0.7, \n",
    "    capsize=4, capthick=2.0, elinewidth=2.0, label='__no_label__', fmt='o', zorder=0)\n",
    "ax2.scatter(\n",
    "    sat_1.meta['r_mpc'] * 1.1, sat_1[0]['dsigma'] / cen_mat_1[0]['dsigma'], s=300, marker='X', \n",
    "    alpha=0.9, facecolor='deepskyblue', edgecolor='w', \n",
    "    linewidth=2.0, label=r'$R = 1.0; L=20$')\n",
    "\n",
    "err_ratio_2 = np.asarray(\n",
    "    np.sqrt((cen_mat_2[0]['dsig_err_jk'] / cen_mat_2[0]['dsigma']) ** 2 + \n",
    "            (sat_2[0]['dsig_err_jk'] / sat_2[0]['dsigma']) ** 2))[0]\n",
    "\n",
    "ax2.errorbar(\n",
    "    sat_2.meta['r_mpc'] * 0.9, sat_2[0]['dsigma'] / cen_mat_2[0]['dsigma'], \n",
    "    yerr=err_ratio_2, \n",
    "    ecolor='skyblue', color='w', alpha=0.7, \n",
    "    capsize=4, capthick=2.0, elinewidth=2.0, label='__no_label__', fmt='o', zorder=0)\n",
    "ax2.scatter(\n",
    "    sat_2.meta['r_mpc'] * 0.9, sat_2[0]['dsigma'] / cen_mat_2[0]['dsigma'], s=200, marker='h', \n",
    "    alpha=0.9, facecolor='skyblue', edgecolor='w', \n",
    "    linewidth=2.5, label=r'$R=1.5; L=30$')\n",
    "\n",
    "ax2.legend(loc='best', fontsize=19)\n",
    "\n",
    "ax2.set_ylim(0.3, 4.9)\n",
    "\n",
    "_ = ax2.set_xlabel(r'$R\\ [\\mathrm{Mpc}]$', fontsize=32)\n",
    "\n",
    "_ = ax1.text(0.05, 0.06, r'$\\log M_{\\star, 100\\ \\rm kpc} \\in [11.6, 11.8)$', \n",
    "             fontsize=25, transform=ax1.transAxes)\n",
    "\n",
    "_ = ax1.text(0.55, 0.90, r'$R=1\\ \\rm Mpc$', fontsize=24, transform=ax1.transAxes)\n",
    "_ = ax1.text(0.55, 0.80, r'$L=40\\ \\rm Mpc$', fontsize=24, transform=ax1.transAxes)\n",
    "_ = ax1.set_ylabel(r'$R \\times \\Delta\\Sigma\\ [{\\rm Mpc}\\ M_{\\odot}/\\mathrm{pc}^2]$', fontsize=31)\n",
    "_ = ax2.set_ylabel(r'$\\Delta\\Sigma_{\\rm Sat} / \\Delta\\Sigma_{\\rm Cen}$', fontsize=32)\n",
    "\n",
    "_ = ax1.set_title(r'$\\rm Satellites\\ v.s.\\ Centrals$', fontsize=36, pad=18)"
   ]
  },
  {
   "cell_type": "code",
   "execution_count": 54,
   "id": "b7e3c0cf-f32d-48e3-be0f-921aace9c3e3",
   "metadata": {},
   "outputs": [],
   "source": [
    "fig.savefig(os.path.join(fig_dir, 'fig_D1.png'), dpi=120)\n",
    "fig.savefig(os.path.join(fig_dir, 'fig_D1.pdf'), dpi=120)"
   ]
  }
 ],
 "metadata": {
  "kernelspec": {
   "display_name": "Python 3",
   "language": "python",
   "name": "python3"
  },
  "language_info": {
   "codemirror_mode": {
    "name": "ipython",
    "version": 3
   },
   "file_extension": ".py",
   "mimetype": "text/x-python",
   "name": "python",
   "nbconvert_exporter": "python",
   "pygments_lexer": "ipython3",
   "version": "3.9.6"
  }
 },
 "nbformat": 4,
 "nbformat_minor": 5
}
