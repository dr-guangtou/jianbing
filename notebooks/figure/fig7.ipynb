{
 "cells": [
  {
   "cell_type": "code",
   "execution_count": 1,
   "id": "03700495-e03e-401d-ad72-b5e511013ce6",
   "metadata": {},
   "outputs": [],
   "source": [
    "%matplotlib inline\n",
    "%load_ext autoreload\n",
    "%autoreload 2\n",
    "\n",
    "import os\n",
    "import sys\n",
    "import copy \n",
    "import pickle\n",
    "\n",
    "import numpy as np \n",
    "import matplotlib as mpl\n",
    "import matplotlib.pyplot as plt\n",
    "\n",
    "from astropy.table import Table, Column, vstack, join\n",
    "\n",
    "import palettable\n",
    "\n",
    "cmap_1 = palettable.colorbrewer.sequential.Blues_7_r\n",
    "cmap_2 = palettable.colorbrewer.sequential.OrRd_7_r\n",
    "cmap_3 = palettable.colorbrewer.sequential.YlGn_7_r\n",
    "cmap_4 = palettable.colorbrewer.sequential.Purples_7_r\n",
    "\n",
    "cmap_list = [cmap_1, cmap_2, cmap_3, cmap_4]\n",
    "\n",
    "color_bins = [\"#377eb8\", \"#e41a1c\", \"#1b9e77\", \"#984ea3\"]"
   ]
  },
  {
   "cell_type": "code",
   "execution_count": 2,
   "id": "5d5f6e45-9368-4f37-a3fe-b879f677fab4",
   "metadata": {},
   "outputs": [],
   "source": [
    "import jianbing\n",
    "\n",
    "from jianbing import hsc\n",
    "from jianbing import utils\n",
    "from jianbing import visual\n",
    "from jianbing import catalog"
   ]
  },
  {
   "cell_type": "code",
   "execution_count": 3,
   "id": "4ef4523f-ed7a-4f92-9063-3206fb202692",
   "metadata": {},
   "outputs": [],
   "source": [
    "data_dir = jianbing.DATA_DIR\n",
    "\n",
    "fig_dir = jianbing.FIG_DIR\n",
    "\n",
    "sim_dir = jianbing.SIM_DIR\n",
    "bin_dir = jianbing.BIN_DIR\n",
    "res_dir = jianbing.RES_DIR"
   ]
  },
  {
   "cell_type": "markdown",
   "id": "6d02de4c-868a-45ea-a069-bbc77096947c",
   "metadata": {},
   "source": [
    "### Compare the CModel stellar mass and other halo mass proxies\n",
    "\n",
    "#### DSigma profiles of HSC massive galaxies"
   ]
  },
  {
   "cell_type": "code",
   "execution_count": 4,
   "id": "9024e8cc-6e71-4edd-b3dc-c9c70d2d8de3",
   "metadata": {},
   "outputs": [],
   "source": [
    "# DeltaSigma profiles of HSC massive galaxies\n",
    "topn_massive = pickle.load(open(os.path.join(res_dir, 'topn_galaxies_sum.pkl'), 'rb'))"
   ]
  },
  {
   "cell_type": "markdown",
   "id": "c47bb95d-2191-40c6-8370-1109f942b153",
   "metadata": {},
   "source": [
    "#### DSigma profiles of mock galaxies"
   ]
  },
  {
   "cell_type": "code",
   "execution_count": 5,
   "id": "9698da1c-2248-49e1-b5f3-df4f03a7b0ee",
   "metadata": {},
   "outputs": [],
   "source": [
    "sim_dsig = Table.read(os.path.join(sim_dir, 'sim_merge_all_dsig.fits'))"
   ]
  },
  {
   "cell_type": "markdown",
   "id": "344b706d-1d1a-4b59-8aef-3cd8e67d6869",
   "metadata": {},
   "source": [
    "#### Halo mass distributions"
   ]
  },
  {
   "cell_type": "code",
   "execution_count": 6,
   "id": "cf97edac-4a68-4304-88f9-4d59aadcf75b",
   "metadata": {},
   "outputs": [],
   "source": [
    "sim_mhalo = Table.read(os.path.join(sim_dir, 'sim_merge_mhalo_hist.fits'))"
   ]
  },
  {
   "cell_type": "markdown",
   "id": "0004f373-1b73-40ad-bd61-3bb6a78da806",
   "metadata": {},
   "source": [
    "#### CModel v.s. 100 kpc stellar mass"
   ]
  },
  {
   "cell_type": "code",
   "execution_count": 8,
   "id": "3c142e1d-dd0e-40bc-b9bc-ccb03278c125",
   "metadata": {},
   "outputs": [],
   "source": [
    "cmod_dsig = topn_massive['logm_cmod']\n",
    "m100_dsig = topn_massive['logm_100']\n",
    "mmax_dsig = topn_massive['logm_max']\n",
    "\n",
    "m10_dsig = topn_massive['logm_10']\n",
    "m30_dsig = topn_massive['logm_30']\n",
    "m50_dsig = topn_massive['logm_50']"
   ]
  },
  {
   "cell_type": "code",
   "execution_count": null,
   "id": "c2563089-bb6f-4d54-8e9c-7bfcc8c698c6",
   "metadata": {},
   "outputs": [
    {
     "name": "stderr",
     "output_type": "stream",
     "text": [
      "/Users/song/Dropbox/work/submit/jianbing/jianbing/visual.py:473: RuntimeWarning: invalid value encountered in log10\n",
      "  mod['r_mpc'], np.log10(ref_rand), fill_value='extrapolate')(r_mpc_obs)\n"
     ]
    },
    {
     "name": "stdout",
     "output_type": "stream",
     "text": [
      "Mean ratio in Bin 1: 0.526+/-0.163\n",
      "Mean Mvir: 14.326 v.s. 13.833\n",
      "Difference of Mvir in Bin 1: 0.494\n",
      "Mean ratio in Bin 2: 0.727+/-0.161\n",
      "Mean Mvir: 13.863 v.s. 13.662\n",
      "Difference of Mvir in Bin 2: 0.201\n",
      "Mean ratio in Bin 3: 0.577+/-0.111\n",
      "Mean Mvir: 13.585 v.s. 12.709\n",
      "Difference of Mvir in Bin 3: 0.875\n",
      "Mean ratio in Bin 4: 0.722+/-0.109\n",
      "Mean Mvir: 13.325 v.s. 12.796\n",
      "Difference of Mvir in Bin 4: 0.529\n"
     ]
    }
   ],
   "source": [
    "dsig_ref = m100_dsig\n",
    "label_ref = r'$M_{\\star,100\\ \\rm kpc}$'\n",
    "sub_ref = r'{100\\ \\rm kpc}'\n",
    "\n",
    "dsig_cmp = cmod_dsig\n",
    "label_cmp = r'$M_{\\star,\\rm CMod}$'\n",
    "sub_cmp = r'{\\rm CMod}'\n",
    "\n",
    "fig = visual.compare_dsigma_profiles(\n",
    "    dsig_ref, dsig_cmp, sim_dsig, sim_mhalo, sig_type='bt', compare_to_model=True,\n",
    "    label_ref=label_ref, label_cmp=label_cmp, sub_ref=sub_ref, sub_cmp=sub_cmp,\n",
    "    logmh_range=(11.0, 15.4), ratio_range=(0.01, 1.69), show_stats=True)"
   ]
  },
  {
   "cell_type": "code",
   "execution_count": null,
   "id": "07b29d69-d85d-4b3b-b38d-fd8f98fb6550",
   "metadata": {},
   "outputs": [],
   "source": []
  }
 ],
 "metadata": {
  "kernelspec": {
   "display_name": "Python 3",
   "language": "python",
   "name": "python3"
  },
  "language_info": {
   "codemirror_mode": {
    "name": "ipython",
    "version": 3
   },
   "file_extension": ".py",
   "mimetype": "text/x-python",
   "name": "python",
   "nbconvert_exporter": "python",
   "pygments_lexer": "ipython3",
   "version": "3.8.8"
  }
 },
 "nbformat": 4,
 "nbformat_minor": 5
}
