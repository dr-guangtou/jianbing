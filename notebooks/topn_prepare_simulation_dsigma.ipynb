{
 "cells": [
  {
   "cell_type": "code",
   "execution_count": 1,
   "id": "5c2d4dd4-4dca-441d-af8d-e3fadbba2342",
   "metadata": {},
   "outputs": [],
   "source": [
    "%matplotlib inline\n",
    "%load_ext autoreload\n",
    "%autoreload 2\n",
    "\n",
    "import os\n",
    "import sys\n",
    "import copy \n",
    "import pickle\n",
    "import inspect\n",
    "import itertools\n",
    "\n",
    "import numpy as np \n",
    "import matplotlib as mpl\n",
    "import matplotlib.pyplot as plt\n",
    "\n",
    "from astropy.table import Table, Column, vstack, join"
   ]
  },
  {
   "cell_type": "markdown",
   "id": "5def62c0-dc3f-4025-aaf9-98e380070467",
   "metadata": {},
   "source": [
    "## $\\Delta\\Sigma$ Profiles from Simulations\n",
    "\n",
    "- Using `MDPL2` and `SMDPL` simulation and the mock model, we can predict the $\\Delta\\Sigma$ profiles of massive halos in each of our cumulative number density bins selected at given scatter value ($\\sigma_{M_{\\rm Halo}}$). We can compare them with the observed $\\Delta\\Sigma$ profiles later.\n",
    "\n",
    "- We also get the halo mass distributions for these selections. \n",
    "\n",
    "- The reason we need both `MDPL2` and `SDMPL` is because we need:\n",
    "    - `MDPL2` with large volumes to sample the high-mass end of halo mass function well. \n",
    "    - `SMDPL` with higher resolution to include lower mass halos when the scatter value is high\n",
    "\n",
    "- By default, we include all galaxies (both central + satellites). For these N-body simulations, it means we include sub-halos if they could contain massive enough galaxies.\n",
    "    - For cluster catalogs, we use the results from `MDPL2` simulation with just the central galaxies as well."
   ]
  },
  {
   "cell_type": "code",
   "execution_count": 2,
   "id": "cf9e0d7c-9f38-4356-8360-60d7c32ee7be",
   "metadata": {},
   "outputs": [],
   "source": [
    "import jianbing"
   ]
  },
  {
   "cell_type": "code",
   "execution_count": 7,
   "id": "52815816-61bd-4408-b235-a4099e30ee4a",
   "metadata": {},
   "outputs": [],
   "source": [
    "data_dir = os.path.join(\n",
    "    os.path.dirname(os.path.dirname(jianbing.__file__)), 'data', 'simulation')"
   ]
  },
  {
   "cell_type": "markdown",
   "id": "d2bee204-b6a2-401e-b82f-673c26c47861",
   "metadata": {},
   "source": [
    "### Pre-computed DSigma profiles of galaxies from simulations\n",
    "\n",
    "- This work is done by Christopher Bradshaw using the [`awesomefinder` code](https://github.com/dr-guangtou/awesome_cluster_finder) he developed. \n",
    "    - The code is currently maintained by Song Huang, and will be made public later.\n",
    "- We use `halotools` to calculate the $\\Delta\\Sigma$ profiles."
   ]
  },
  {
   "cell_type": "code",
   "execution_count": 60,
   "id": "1f5466e8-13dd-4622-9261-7e2dc44a936c",
   "metadata": {},
   "outputs": [],
   "source": [
    "# MDPL2 Cen + Sat galaxies\n",
    "mdpl2_dsig_all = pickle.load(\n",
    "    open(os.path.join(data_dir, 'mdpl2_dsigma_all.pickle'), \"rb\"))\n",
    "\n",
    "# MDPL2 Cen only\n",
    "mdpl2_dsig_cen = pickle.load(\n",
    "    open(os.path.join(data_dir, 'mdpl2_dsigma_cen.pickle'), \"rb\"))\n",
    "\n",
    "# SMDPL Cen + Sat galaxies\n",
    "smdpl_dsig_all = pickle.load(\n",
    "    open(os.path.join(data_dir, 'smdpl_dsigma_all.pickle'), \"rb\"))"
   ]
  },
  {
   "cell_type": "markdown",
   "id": "cc17128f-d826-4ed6-af4d-18289db16015",
   "metadata": {},
   "source": [
    "- Convert the data structure into `astropy` table"
   ]
  },
  {
   "cell_type": "code",
   "execution_count": 61,
   "id": "3d03b555-f6ca-4244-a34e-0a60501089a7",
   "metadata": {},
   "outputs": [],
   "source": [
    "mdpl2_all = Table(mdpl2_dsig_all)\n",
    "mdpl2_all.rename_column('r', 'r_mpc')\n",
    "mdpl2_all.rename_column('ds', 'dsig')\n",
    "mdpl2_all.rename_column('ds_err', 'dsig_err')\n",
    "mdpl2_all.rename_column('number_density_bin', 'bin')\n",
    "mdpl2_all.rename_column('sim_n_lower', 'rank_low')\n",
    "mdpl2_all.rename_column('sim_n_upper', 'rank_upp')\n",
    "mdpl2_all['simulation'] = ['mdpl2'] * len(mdpl2_all)"
   ]
  },
  {
   "cell_type": "code",
   "execution_count": 62,
   "id": "597b00ae-5155-44ba-be6c-3c5fea654f4f",
   "metadata": {},
   "outputs": [],
   "source": [
    "smdpl_all = Table(smdpl_dsig_all)\n",
    "smdpl_all.rename_column('r', 'r_mpc')\n",
    "smdpl_all.rename_column('ds', 'dsig')\n",
    "smdpl_all.rename_column('ds_err', 'dsig_err')\n",
    "smdpl_all.rename_column('number_density_bin', 'bin')\n",
    "smdpl_all.rename_column('sim_n_lower', 'rank_low')\n",
    "smdpl_all.rename_column('sim_n_upper', 'rank_upp')\n",
    "smdpl_all['simulation'] = ['smdpl'] * len(smdpl_all)"
   ]
  },
  {
   "cell_type": "code",
   "execution_count": 63,
   "id": "60d048fc-1963-484e-843b-bbc4666ef695",
   "metadata": {},
   "outputs": [],
   "source": [
    "mdpl2_cen = Table(mdpl2_dsig_cen)\n",
    "mdpl2_cen.rename_column('r', 'r_mpc')\n",
    "mdpl2_cen.rename_column('ds', 'dsig')\n",
    "mdpl2_cen.rename_column('ds_err', 'dsig_err')\n",
    "mdpl2_cen.rename_column('number_density_bin', 'bin')\n",
    "mdpl2_cen.rename_column('sim_n_lower', 'rank_low')\n",
    "mdpl2_cen.rename_column('sim_n_upper', 'rank_upp')\n",
    "mdpl2_cen['simulation'] = ['mdpl2'] * len(mdpl2_cen)"
   ]
  },
  {
   "cell_type": "markdown",
   "id": "c88c71e3-1200-425e-8403-d1217e1aa38b",
   "metadata": {},
   "source": [
    "- Display the overlapping regions of scatter values between `MDPL2` and `SMDPL`"
   ]
  },
  {
   "cell_type": "code",
   "execution_count": 64,
   "id": "b66ccdbf-df43-4639-bf8d-fd9ac9f661d9",
   "metadata": {},
   "outputs": [
    {
     "data": {
      "text/plain": [
       "<matplotlib.collections.PathCollection at 0x7f80ed3308e0>"
      ]
     },
     "execution_count": 64,
     "metadata": {},
     "output_type": "execute_result"
    },
    {
     "data": {
      "image/png": "[encoded data removed]",
      "text/plain": [
       "<Figure size 432x288 with 1 Axes>"
      ]
     },
     "metadata": {
      "needs_background": "light"
     },
     "output_type": "display_data"
    }
   ],
   "source": [
    "plt.scatter(mdpl2_all['bin'], mdpl2_all['scatter'])\n",
    "plt.scatter(smdpl_all['bin'] + 0.2, smdpl_all['scatter'])"
   ]
  },
  {
   "cell_type": "markdown",
   "id": "487f7a8a-1c59-41cc-8cc6-20a1d23bbca6",
   "metadata": {},
   "source": [
    "- Demo to show the ratio between $\\Delta\\Sigma$ profiles using Cen+Sat and Cen-only galaxies"
   ]
  },
  {
   "cell_type": "code",
   "execution_count": 68,
   "id": "0e5a042e-8e92-40a6-a1e2-dc84b65ba31d",
   "metadata": {},
   "outputs": [
    {
     "data": {
      "text/plain": [
       "<matplotlib.collections.PathCollection at 0x7f810991ccd0>"
      ]
     },
     "execution_count": 68,
     "metadata": {},
     "output_type": "execute_result"
    },
    {
     "data": {
      "image/png": "[encoded data removed]",
      "text/plain": [
       "<Figure size 432x288 with 1 Axes>"
      ]
     },
     "metadata": {
      "needs_background": "light"
     },
     "output_type": "display_data"
    }
   ],
   "source": [
    "all_test = mdpl2_all[(mdpl2_all['bin'] == 1) & (mdpl2_all['scatter'] == 0.22)]\n",
    "cen_test = mdpl2_cen[(mdpl2_cen['bin'] == 1) & (mdpl2_cen['scatter'] == 0.22)]\n",
    "\n",
    "plt.xscale('log')\n",
    "plt.scatter(\n",
    "    all_test['r_mpc'], all_test['dsig'] / cen_test['dsig'], alpha=0.7, linewidth=3.5, rasterized=True)"
   ]
  },
  {
   "cell_type": "markdown",
   "id": "002547ec-4310-4378-9349-4a016f1f3f1a",
   "metadata": {},
   "source": [
    "### Save the results as FITS files\n",
    "\n",
    "- Also combine the `MDPL2` and `SMDPL` tables"
   ]
  },
  {
   "cell_type": "code",
   "execution_count": 72,
   "id": "46541f3f-f3ab-4af6-96ad-c0ec9cd0ecf1",
   "metadata": {},
   "outputs": [],
   "source": [
    "mdpl2_cen.write(\n",
    "    os.path.join(data_dir, 'sim_mdpl2_cen_dsig.fits'), overwrite=True)"
   ]
  },
  {
   "cell_type": "code",
   "execution_count": 70,
   "id": "01fed6b4-62b4-4919-a88b-5a2453e64a41",
   "metadata": {},
   "outputs": [],
   "source": [
    "sim_merge_all_dsig = vstack(\n",
    "    [mdpl2_all[mdpl2_all['scatter'] < 0.65], smdpl_all[smdpl_all['scatter'] >= 0.65]])\n",
    "\n",
    "sim_merge_all_dsig.write(\n",
    "    os.path.join(data_dir, 'sim_merge_all_dsig.fits'), overwrite=True)"
   ]
  },
  {
   "cell_type": "code",
   "execution_count": 71,
   "id": "a87ec787-c929-41b6-b0f1-5c0bb787a740",
   "metadata": {},
   "outputs": [],
   "source": [
    "sim_both_all_dsig = vstack([mdpl2_all, smdpl_all])\n",
    "\n",
    "sim_both_all_dsig.write(\n",
    "    os.path.join(data_dir, 'sim_both_all_dsig.fits'), overwrite=True)"
   ]
  },
  {
   "cell_type": "code",
   "execution_count": null,
   "id": "efac9290-69a6-4bbb-bef5-5be813792b2a",
   "metadata": {},
   "outputs": [],
   "source": []
  }
 ],
 "metadata": {
  "kernelspec": {
   "display_name": "Python 3",
   "language": "python",
   "name": "python3"
  },
  "language_info": {
   "codemirror_mode": {
    "name": "ipython",
    "version": 3
   },
   "file_extension": ".py",
   "mimetype": "text/x-python",
   "name": "python",
   "nbconvert_exporter": "python",
   "pygments_lexer": "ipython3",
   "version": "3.8.8"
  }
 },
 "nbformat": 4,
 "nbformat_minor": 5
}
